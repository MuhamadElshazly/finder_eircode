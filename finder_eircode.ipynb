{
 "cells": [
  {
   "cell_type": "code",
   "execution_count": 1,
   "id": "4ad09c41",
   "metadata": {},
   "outputs": [],
   "source": [
    "from selenium import webdriver\n",
    "from selenium.webdriver.common.keys import Keys\n",
    "from bs4 import BeautifulSoup\n",
    "from time import sleep\n",
    "import csv\n",
    "import xlsxwriter\n",
    "from selenium.webdriver.common.by import By\n",
    "from selenium.webdriver.support.ui import WebDriverWait\n",
    "from selenium.webdriver.support import expected_conditions as ec"
   ]
  },
  {
   "cell_type": "code",
   "execution_count": 11,
   "id": "8db4ea60",
   "metadata": {},
   "outputs": [],
   "source": [
    "##############################\n",
    "# opening to website\n",
    "##############################\n",
    "driver= webdriver.Chrome()\n",
    "sleep(2)\n",
    "url = 'https://finder.eircode.ie/#/'\n",
    "driver.get(url)\n",
    "sleep(10)"
   ]
  },
  {
   "cell_type": "code",
   "execution_count": 12,
   "id": "d582d8c8",
   "metadata": {},
   "outputs": [],
   "source": [
    "##############################\n",
    "# selecting search field\n",
    "##############################\n",
    "search_field = driver.find_element(By.NAME, \"searchQuery\")\n",
    "\n",
    "search_field.send_keys('29 STATIONCOURT PARK, COOLMINE, DUBLIN 15')\n",
    "sleep(2)\n"
   ]
  },
  {
   "cell_type": "code",
   "execution_count": 13,
   "id": "9d6c45bb",
   "metadata": {},
   "outputs": [],
   "source": [
    "##############################\n",
    "# clicking search icon\n",
    "##############################\n",
    "search_icon = driver.find_element(By.XPATH , '//*[@id=\"canvas\"]/div/div[1]/div/div[2]/form/div[1]/span/input')\n",
    "WebDriverWait(driver, 60).until(ec.presence_of_element_located((By.XPATH, '//*[@id=\"canvas\"]/div/div[1]/div/div[2]/form/div[1]/span/input')))\n",
    "search_icon.send_keys(Keys.RETURN)\n",
    "sleep(5)\n"
   ]
  },
  {
   "cell_type": "code",
   "execution_count": 15,
   "id": "92dfb49c",
   "metadata": {},
   "outputs": [
    {
     "name": "stdout",
     "output_type": "stream",
     "text": [
      "D15 P638\n"
     ]
    }
   ],
   "source": [
    "##############################\n",
    "# returning the result\n",
    "##############################\n",
    "\n",
    "page_source = BeautifulSoup(driver.page_source)\n",
    "profiles = page_source.find(\"span\",{\"class\":\"E-code-text clearfix print-float-none ng-binding\"}).text.strip()\n",
    "print(profiles)\n",
    "sleep(2)\n"
   ]
  },
  {
   "cell_type": "code",
   "execution_count": 16,
   "id": "7d84735a",
   "metadata": {},
   "outputs": [],
   "source": [
    "##############################\n",
    "# returning to the search page again\n",
    "##############################\n",
    "\n",
    "driver.execute_script(\"window.history.go(-1)\")"
   ]
  },
  {
   "cell_type": "code",
   "execution_count": null,
   "id": "5ebbd961",
   "metadata": {},
   "outputs": [],
   "source": []
  },
  {
   "cell_type": "code",
   "execution_count": null,
   "id": "de01d697",
   "metadata": {},
   "outputs": [],
   "source": []
  },
  {
   "cell_type": "code",
   "execution_count": null,
   "id": "a4a4c582",
   "metadata": {},
   "outputs": [],
   "source": []
  },
  {
   "cell_type": "code",
   "execution_count": null,
   "id": "673aa2b3",
   "metadata": {},
   "outputs": [],
   "source": []
  },
  {
   "cell_type": "code",
   "execution_count": null,
   "id": "dc926504",
   "metadata": {},
   "outputs": [],
   "source": []
  },
  {
   "cell_type": "code",
   "execution_count": null,
   "id": "7d404ca0",
   "metadata": {},
   "outputs": [],
   "source": []
  },
  {
   "cell_type": "code",
   "execution_count": null,
   "id": "07a74d9f",
   "metadata": {},
   "outputs": [],
   "source": []
  }
 ],
 "metadata": {
  "kernelspec": {
   "display_name": "Python 3 (ipykernel)",
   "language": "python",
   "name": "python3"
  },
  "language_info": {
   "codemirror_mode": {
    "name": "ipython",
    "version": 3
   },
   "file_extension": ".py",
   "mimetype": "text/x-python",
   "name": "python",
   "nbconvert_exporter": "python",
   "pygments_lexer": "ipython3",
   "version": "3.9.12"
  }
 },
 "nbformat": 4,
 "nbformat_minor": 5
}
